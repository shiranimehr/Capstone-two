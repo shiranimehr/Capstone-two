{
 "cells": [
  {
   "cell_type": "code",
   "execution_count": 1,
   "metadata": {},
   "outputs": [],
   "source": [
    "import warnings\n",
    "warnings.simplefilter(action='ignore', category=FutureWarning)\n",
    "import pandas as pd\n",
    "import numpy as np\n",
    "from sklearn.feature_extraction.text import CountVectorizer\n",
    "from sklearn.feature_extraction.text import TfidfTransformer\n",
    "from sklearn.linear_model import SGDClassifier\n",
    "from sklearn.model_selection import GridSearchCV\n",
    "from sklearn.pipeline import Pipeline\n",
    "from pprint import pprint\n",
    "from time import time\n",
    "import logging\n",
    "from sklearn.naive_bayes import MultinomialNB\n",
    "import seaborn as sn\n",
    "import matplotlib.pyplot as plt\n",
    "import sklearn.metrics as metrics\n",
    "from sklearn.metrics import average_precision_score\n",
    "from sklearn.metrics import precision_recall_curve\n",
    "from sklearn.metrics import plot_precision_recall_curve"
   ]
  },
  {
   "cell_type": "code",
   "execution_count": 2,
   "metadata": {},
   "outputs": [],
   "source": [
    "X_train = pd.read_csv('../data/interim/X-train.csv', usecols = ['question_text'], squeeze=True)\n",
    "y_train = pd.read_csv('../data/interim/y-train.csv', usecols = ['target'], squeeze=True)\n",
    "X_test = pd.read_csv('../data/interim/X-test.csv', usecols = ['question_text'], squeeze=True)\n",
    "y_test = pd.read_csv('../data/interim/y-test.csv', usecols = ['target'], squeeze=True)"
   ]
  },
  {
   "cell_type": "code",
   "execution_count": 3,
   "metadata": {},
   "outputs": [
    {
     "data": {
      "text/plain": [
       "0                   Can I get pregnant by dry humping?\n",
       "1    Can I divade project in different git submodul...\n",
       "2                 How can I donate bone marrow in UAE?\n",
       "3     What are the best books about negative thinking?\n",
       "4             Why does Texas have high property taxes?\n",
       "Name: question_text, dtype: object"
      ]
     },
     "execution_count": 3,
     "metadata": {},
     "output_type": "execute_result"
    }
   ],
   "source": [
    "X_train.head()"
   ]
  },
  {
   "cell_type": "code",
   "execution_count": 4,
   "metadata": {},
   "outputs": [
    {
     "data": {
      "text/plain": [
       "(195918,)"
      ]
     },
     "execution_count": 4,
     "metadata": {},
     "output_type": "execute_result"
    }
   ],
   "source": [
    "X_train.shape"
   ]
  },
  {
   "cell_type": "code",
   "execution_count": 5,
   "metadata": {},
   "outputs": [
    {
     "data": {
      "text/plain": [
       "(65306,)"
      ]
     },
     "execution_count": 5,
     "metadata": {},
     "output_type": "execute_result"
    }
   ],
   "source": [
    "X_test.shape"
   ]
  },
  {
   "cell_type": "code",
   "execution_count": 6,
   "metadata": {},
   "outputs": [
    {
     "data": {
      "text/plain": [
       "0    0\n",
       "1    0\n",
       "2    0\n",
       "3    0\n",
       "4    0\n",
       "Name: target, dtype: int64"
      ]
     },
     "execution_count": 6,
     "metadata": {},
     "output_type": "execute_result"
    }
   ],
   "source": [
    "y_train.head()"
   ]
  },
  {
   "cell_type": "markdown",
   "metadata": {},
   "source": [
    "Let's check ratio of '1's tp '0's. "
   ]
  },
  {
   "cell_type": "code",
   "execution_count": 7,
   "metadata": {},
   "outputs": [
    {
     "data": {
      "text/plain": [
       "0.06186261599240499"
      ]
     },
     "execution_count": 7,
     "metadata": {},
     "output_type": "execute_result"
    }
   ],
   "source": [
    "np.mean(y_test)"
   ]
  },
  {
   "cell_type": "code",
   "execution_count": 8,
   "metadata": {},
   "outputs": [],
   "source": [
    "def calculate_accuracy(true_y, predicted_y):\n",
    "    print('Accuracy: ', np.mean(predicted_y==true_y))"
   ]
  },
  {
   "cell_type": "code",
   "execution_count": 9,
   "metadata": {},
   "outputs": [],
   "source": [
    "def plot_confusion_matrix(true_y, predicted_y):\n",
    "    df = pd.DataFrame(data = {'y_Actual': true_y,\n",
    "                              'y_Predicted': predicted_y\n",
    "                             }, columns=['y_Actual','y_Predicted'])\n",
    "    confusion_matrix = pd.crosstab(df['y_Actual'], df['y_Predicted'], \n",
    "                                   rownames=['Actual'], colnames=['Predicted'])\n",
    "    sn.heatmap(confusion_matrix, annot=True)\n",
    "    plt.show()"
   ]
  },
  {
   "cell_type": "code",
   "execution_count": 20,
   "metadata": {},
   "outputs": [],
   "source": [
    "def plot_roc(model, X_test, y_test):\n",
    "    # calculate the fpr and tpr for all thresholds of the classification\n",
    "    probs = model.predict_proba(X_test)\n",
    "    preds = probs[:,1]\n",
    "    fpr, tpr, threshold = metrics.roc_curve(y_test, preds)\n",
    "    roc_auc = metrics.auc(fpr, tpr)\n",
    "    \n",
    "    plt.title('Receiver Operating Characteristic')\n",
    "    plt.plot(fpr, tpr, 'b', label = 'AUC = %0.2f' % roc_auc)\n",
    "    plt.legend(loc = 'lower right')\n",
    "    plt.plot([0, 1], [0, 1],'r--')\n",
    "    plt.xlim([0, 1])\n",
    "    plt.ylim([0, 1])\n",
    "    plt.ylabel('True Positive Rate')\n",
    "    plt.xlabel('False Positive Rate')\n",
    "    plt.show()"
   ]
  },
  {
   "cell_type": "code",
   "execution_count": 11,
   "metadata": {},
   "outputs": [
    {
     "name": "stdout",
     "output_type": "stream",
     "text": [
      "Accuracy:  0.9407252013597526\n"
     ]
    },
    {
     "data": {
      "image/png": "[encoded data removed]",
      "text/plain": [
       "<Figure size 432x288 with 2 Axes>"
      ]
     },
     "metadata": {
      "needs_background": "light"
     },
     "output_type": "display_data"
    }
   ],
   "source": [
    "# Logistic regression\n",
    "log_clf = Pipeline([\n",
    "    ('vect', CountVectorizer()),\n",
    "    ('tfidf', TfidfTransformer()),\n",
    "    ('clf', SGDClassifier(loss='log')),\n",
    "])\n",
    "log_clf.fit(X_train, y_train)\n",
    "\n",
    "log_predicted = log_clf.predict(X_test)\n",
    "calculate_accuracy(y_test,log_predicted)\n",
    "plot_confusion_matrix(y_test,log_predicted)\n"
   ]
  },
  {
   "cell_type": "code",
   "execution_count": 12,
   "metadata": {},
   "outputs": [
    {
     "name": "stdout",
     "output_type": "stream",
     "text": [
      "Accuracy:  0.9390408232015435\n"
     ]
    },
    {
     "data": {
      "image/png": "[encoded data removed]",
      "text/plain": [
       "<Figure size 432x288 with 2 Axes>"
      ]
     },
     "metadata": {
      "needs_background": "light"
     },
     "output_type": "display_data"
    }
   ],
   "source": [
    "# SVM\n",
    "svm_clf = Pipeline([\n",
    "    ('vect', CountVectorizer()),\n",
    "    ('tfidf', TfidfTransformer()),\n",
    "    ('clf', SGDClassifier(loss='hinge')),\n",
    "])\n",
    "svm_clf.fit(X_train, y_train)\n",
    "\n",
    "svm_predicted = svm_clf.predict(X_test)\n",
    "calculate_accuracy(y_test, svm_predicted)\n",
    "plot_confusion_matrix(y_test, svm_predicted)"
   ]
  },
  {
   "cell_type": "code",
   "execution_count": 13,
   "metadata": {},
   "outputs": [
    {
     "name": "stdout",
     "output_type": "stream",
     "text": [
      "Accuracy:  0.9386733225124797\n"
     ]
    },
    {
     "data": {
      "image/png": "[encoded data removed]",
      "text/plain": [
       "<Figure size 432x288 with 2 Axes>"
      ]
     },
     "metadata": {
      "needs_background": "light"
     },
     "output_type": "display_data"
    }
   ],
   "source": [
    "# Naive Bayes\n",
    "naive_bayes_clf = Pipeline([\n",
    "    ('vect', CountVectorizer()),\n",
    "    ('tfidf', TfidfTransformer()),\n",
    "    ('clf', MultinomialNB()),\n",
    "])\n",
    "\n",
    "naive_bayes_clf.fit(X_train, y_train)\n",
    "\n",
    "naive_bayes_predicted = naive_bayes_clf.predict(X_test)\n",
    "calculate_accuracy(y_test, naive_bayes_predicted)\n",
    "plot_confusion_matrix(y_test, naive_bayes_predicted)"
   ]
  },
  {
   "cell_type": "code",
   "execution_count": 14,
   "metadata": {},
   "outputs": [],
   "source": [
    "def calc_precision_recall(model, X_test, y_test):\n",
    "    y_scores = model.predict_proba(X_test)[:, 1]\n",
    "    p, r, thresholds = precision_recall_curve(y_test, y_scores)\n",
    "    l = len(thresholds)\n",
    "    p_r_th_df = pd.DataFrame({'Precision': p[0:l], \n",
    "                              'Recall':r[0:l], \n",
    "                              'Threshold':thresholds[0:l]})\n",
    "    return p_r_th_df"
   ]
  },
  {
   "cell_type": "code",
   "execution_count": 15,
   "metadata": {},
   "outputs": [
    {
     "data": {
      "image/png": "[encoded data removed]",
      "text/plain": [
       "<Figure size 432x288 with 1 Axes>"
      ]
     },
     "metadata": {
      "needs_background": "light"
     },
     "output_type": "display_data"
    }
   ],
   "source": [
    "from sklearn.metrics import precision_recall_curve\n",
    "from sklearn.metrics import PrecisionRecallDisplay\n",
    "\n",
    "y_score = log_clf.predict_proba(X_test)[:, 1]\n",
    "prec1, recall1, _ = precision_recall_curve(y_test, y_score,\n",
    "                                         pos_label=log_clf.classes_[1])\n",
    "\n",
    "y_score = svm_clf.decision_function(X_test)\n",
    "prec2, recall2, _ = precision_recall_curve(y_test, y_score,\n",
    "                                         pos_label=svm_clf.classes_[1])\n",
    "\n",
    "y_score = naive_bayes_clf.predict_proba(X_test)[:, 1]\n",
    "prec3, recall3, _ = precision_recall_curve(y_test, y_score,\n",
    "                                         pos_label=naive_bayes_clf.classes_[1])\n",
    "\n",
    "line1, = plt.plot(recall1, prec1, label='Logistic regression')\n",
    "line2, = plt.plot(recall2, prec2, label='SVM')\n",
    "line3, = plt.plot(recall3, prec3, label='Naive Bayes')\n",
    "plt.legend(handles=[line1, line2, line3])\n",
    "plt.xlabel('Recall')\n",
    "plt.ylabel('Precision')\n",
    "plt.show()"
   ]
  },
  {
   "cell_type": "code",
   "execution_count": 16,
   "metadata": {},
   "outputs": [],
   "source": [
    "from sklearn.base import BaseEstimator\n",
    "class DummyClf(BaseEstimator):\n",
    "    def fit(self): pass\n",
    "    def score(self): pass"
   ]
  },
  {
   "cell_type": "code",
   "execution_count": 17,
   "metadata": {},
   "outputs": [],
   "source": [
    "from sklearn.feature_extraction import stop_words\n",
    "from nltk import word_tokenize          \n",
    "from nltk.stem import WordNetLemmatizer \n",
    "from sklearn.feature_extraction import text \n",
    "\n",
    "wnl = WordNetLemmatizer()\n",
    "stop_words_lemmatized = [wnl.lemmatize(s) for s in list(stop_words.ENGLISH_STOP_WORDS)]\n",
    "stop_words = text.ENGLISH_STOP_WORDS.union(stop_words_lemmatized)\n",
    "\n",
    "class LemmaTokenizer(object):\n",
    "    def __init__(self):\n",
    "        self.wnl = WordNetLemmatizer()\n",
    "    def __call__(self, articles):\n",
    "        return [self.wnl.lemmatize(t) for t in word_tokenize(articles)]\n",
    "\n",
    "\n",
    "pipeline = Pipeline([\n",
    "    ('vect', CountVectorizer()),\n",
    "    ('tfidf', TfidfTransformer()),\n",
    "    ('clf', DummyClf()),\n",
    "])\n",
    "\n",
    "parameters = [\n",
    "    {\n",
    "        'vect__tokenizer': (LemmaTokenizer(),),\n",
    "        'vect__stop_words': (stop_words,),\n",
    "        'vect__lowercase': (True,),\n",
    "        'clf': [SGDClassifier()], # SVM if hinge loss / logreg if log loss\n",
    "        'clf__max_iter': [100, 200],\n",
    "        'clf__penalty': ('l1','l2','elasticnet'),\n",
    "        'clf__alpha': (1e-4, 1e-5, 1e-6),\n",
    "        'clf__tol': [1e-4],\n",
    "        'clf__loss': ['hinge', 'log'],\n",
    "    },\n",
    "    {\n",
    "        'vect__tokenizer': (LemmaTokenizer(),),\n",
    "        'vect__stop_words': (stop_words,),\n",
    "        'vect__lowercase': (True,),\n",
    "        'clf': [MultinomialNB()],\n",
    "        'clf__alpha': (1e-4, 1e-5, 1e-6),\n",
    "    },\n",
    "]\n",
    "\n",
    "gscv = GridSearchCV(pipeline, parameters, cv=5, scoring='average_precision')"
   ]
  },
  {
   "cell_type": "code",
   "execution_count": 18,
   "metadata": {},
   "outputs": [
    {
     "name": "stdout",
     "output_type": "stream",
     "text": [
      "Performing grid search...\n",
      "pipeline: ['vect', 'tfidf', 'clf']\n",
      "done in 5664.275s\n",
      "\n",
      "Best score: 0.538\n",
      "Best parameters set:\n",
      "CountVectorizer(analyzer='word', binary=False, decode_error='strict',\n",
      "                dtype=<class 'numpy.int64'>, encoding='utf-8', input='content',\n",
      "                lowercase=True, max_df=1.0, max_features=None, min_df=1,\n",
      "                ngram_range=(1, 1), preprocessor=None,\n",
      "                stop_words=frozenset({'a', 'about', 'above', 'across', 'after',\n",
      "                                      'afterwards', 'again', 'against', 'all',\n",
      "                                      'almost', 'alone', 'along', 'already',\n",
      "                                      'also', 'although', 'always', 'am',\n",
      "                                      'among', 'amongst', 'amoungst', 'amount',\n",
      "                                      'an', 'and', 'another', 'any', 'anyhow',\n",
      "                                      'anyone', 'anything', 'anyway',\n",
      "                                      'anywhere', ...}),\n",
      "                strip_accents=None, token_pattern='(?u)\\\\b\\\\w\\\\w+\\\\b',\n",
      "                tokenizer=<__main__.LemmaTokenizer object at 0x7fc934ac7d10>,\n",
      "                vocabulary=None)\n",
      "TfidfTransformer(norm='l2', smooth_idf=True, sublinear_tf=False, use_idf=True)\n",
      "SGDClassifier(alpha=1e-06, average=False, class_weight=None,\n",
      "              early_stopping=False, epsilon=0.1, eta0=0.0, fit_intercept=True,\n",
      "              l1_ratio=0.15, learning_rate='optimal', loss='log', max_iter=200,\n",
      "              n_iter_no_change=5, n_jobs=None, penalty='l2', power_t=0.5,\n",
      "              random_state=None, shuffle=True, tol=0.0001,\n",
      "              validation_fraction=0.1, verbose=0, warm_start=False)\n"
     ]
    }
   ],
   "source": [
    "print(\"Performing grid search...\")\n",
    "print(\"pipeline:\", [name for name, _ in pipeline.steps])\n",
    "t0 = time()\n",
    "gscv.fit(X_train, y_train)\n",
    "print(\"done in %0.3fs\" % (time() - t0))\n",
    "print()\n",
    "\n",
    "print(\"Best score: %0.3f\" % gscv.best_score_)\n",
    "print(\"Best parameters set:\")\n",
    "best_parameters = gscv.best_estimator_.get_params()\n",
    "print(best_parameters['vect'])\n",
    "print(best_parameters['tfidf'])\n",
    "print(best_parameters['clf'])"
   ]
  },
  {
   "cell_type": "code",
   "execution_count": 21,
   "metadata": {},
   "outputs": [
    {
     "data": {
      "image/png": "[encoded data removed]",
      "text/plain": [
       "<Figure size 432x288 with 1 Axes>"
      ]
     },
     "metadata": {
      "needs_background": "light"
     },
     "output_type": "display_data"
    },
    {
     "data": {
      "image/png": "[encoded data removed]",
      "text/plain": [
       "<Figure size 432x288 with 1 Axes>"
      ]
     },
     "metadata": {
      "needs_background": "light"
     },
     "output_type": "display_data"
    }
   ],
   "source": [
    "best_model  = gscv.best_estimator_\n",
    "best_model.fit(X_train, y_train)\n",
    "\n",
    "plot_roc(best_model, X_test, y_test)\n",
    "\n",
    "plot_precision_recall_curve(best_model, X_test, y_test)\n",
    "plt.show()\n",
    "\n",
    "y_scores = best_model.predict_proba(X_test)[:, 1]\n",
    "p, r, thresholds = precision_recall_curve(y_test, y_scores)\n",
    "l = len(thresholds)\n",
    "p_r_th_df = pd.DataFrame({'Precision': p[0:l], 'Recall':r[0:l], 'Threshold':thresholds[0:l]})\n"
   ]
  },
  {
   "cell_type": "code",
   "execution_count": 22,
   "metadata": {},
   "outputs": [
    {
     "name": "stdout",
     "output_type": "stream",
     "text": [
      "Number of features: 78786\n"
     ]
    }
   ],
   "source": [
    "coefs = best_model.named_steps['clf'].coef_[0]\n",
    "\n",
    "pipe = Pipeline([('vect', gscv.best_estimator_['vect']),\n",
    "                 ('tfidf', gscv.best_estimator_['tfidf'])]).fit(X_train)\n",
    "\n",
    "features = pipe['vect'].get_feature_names()\n",
    "\n",
    "dfx = pd.DataFrame({'features':features, 'coef':coefs})\n",
    "\n",
    "print('Number of features:', dfx.shape[0])"
   ]
  },
  {
   "cell_type": "code",
   "execution_count": 23,
   "metadata": {},
   "outputs": [],
   "source": [
    "dfx.sort_values(by=['coef'], inplace=True)"
   ]
  },
  {
   "cell_type": "code",
   "execution_count": 24,
   "metadata": {},
   "outputs": [
    {
     "data": {
      "text/html": [
       "<div>\n",
       "<style scoped>\n",
       "    .dataframe tbody tr th:only-of-type {\n",
       "        vertical-align: middle;\n",
       "    }\n",
       "\n",
       "    .dataframe tbody tr th {\n",
       "        vertical-align: top;\n",
       "    }\n",
       "\n",
       "    .dataframe thead th {\n",
       "        text-align: right;\n",
       "    }\n",
       "</style>\n",
       "<table border=\"1\" class=\"dataframe\">\n",
       "  <thead>\n",
       "    <tr style=\"text-align: right;\">\n",
       "      <th></th>\n",
       "      <th>features</th>\n",
       "      <th>coef</th>\n",
       "    </tr>\n",
       "  </thead>\n",
       "  <tbody>\n",
       "    <tr>\n",
       "      <th>6253</th>\n",
       "      <td>?</td>\n",
       "      <td>-13.980140</td>\n",
       "    </tr>\n",
       "    <tr>\n",
       "      <th>23499</th>\n",
       "      <td>difference</td>\n",
       "      <td>-5.383977</td>\n",
       "    </tr>\n",
       "    <tr>\n",
       "      <th>45593</th>\n",
       "      <td>meaning</td>\n",
       "      <td>-4.158137</td>\n",
       "    </tr>\n",
       "    <tr>\n",
       "      <th>37651</th>\n",
       "      <td>inhabit</td>\n",
       "      <td>-3.979196</td>\n",
       "    </tr>\n",
       "    <tr>\n",
       "      <th>65996</th>\n",
       "      <td>song</td>\n",
       "      <td>-3.474914</td>\n",
       "    </tr>\n",
       "    <tr>\n",
       "      <th>70064</th>\n",
       "      <td>text</td>\n",
       "      <td>-3.444739</td>\n",
       "    </tr>\n",
       "    <tr>\n",
       "      <th>59617</th>\n",
       "      <td>regret</td>\n",
       "      <td>-3.408236</td>\n",
       "    </tr>\n",
       "    <tr>\n",
       "      <th>8627</th>\n",
       "      <td>amazon</td>\n",
       "      <td>-3.396875</td>\n",
       "    </tr>\n",
       "    <tr>\n",
       "      <th>55822</th>\n",
       "      <td>potential</td>\n",
       "      <td>-3.288171</td>\n",
       "    </tr>\n",
       "    <tr>\n",
       "      <th>18809</th>\n",
       "      <td>comfortable</td>\n",
       "      <td>-3.283136</td>\n",
       "    </tr>\n",
       "    <tr>\n",
       "      <th>26812</th>\n",
       "      <td>engineering</td>\n",
       "      <td>-3.245075</td>\n",
       "    </tr>\n",
       "    <tr>\n",
       "      <th>32953</th>\n",
       "      <td>gross</td>\n",
       "      <td>-3.221044</td>\n",
       "    </tr>\n",
       "    <tr>\n",
       "      <th>3354</th>\n",
       "      <td>2017</td>\n",
       "      <td>-3.181072</td>\n",
       "    </tr>\n",
       "    <tr>\n",
       "      <th>56424</th>\n",
       "      <td>pressure</td>\n",
       "      <td>-3.162457</td>\n",
       "    </tr>\n",
       "    <tr>\n",
       "      <th>56728</th>\n",
       "      <td>process</td>\n",
       "      <td>-3.102449</td>\n",
       "    </tr>\n",
       "    <tr>\n",
       "      <th>38398</th>\n",
       "      <td>invest</td>\n",
       "      <td>-3.073241</td>\n",
       "    </tr>\n",
       "    <tr>\n",
       "      <th>43128</th>\n",
       "      <td>loan</td>\n",
       "      <td>-3.057832</td>\n",
       "    </tr>\n",
       "    <tr>\n",
       "      <th>75807</th>\n",
       "      <td>web</td>\n",
       "      <td>-3.008405</td>\n",
       "    </tr>\n",
       "    <tr>\n",
       "      <th>58753</th>\n",
       "      <td>ratio</td>\n",
       "      <td>-2.968958</td>\n",
       "    </tr>\n",
       "    <tr>\n",
       "      <th>23493</th>\n",
       "      <td>differ</td>\n",
       "      <td>-2.967956</td>\n",
       "    </tr>\n",
       "  </tbody>\n",
       "</table>\n",
       "</div>"
      ],
      "text/plain": [
       "          features       coef\n",
       "6253             ? -13.980140\n",
       "23499   difference  -5.383977\n",
       "45593      meaning  -4.158137\n",
       "37651      inhabit  -3.979196\n",
       "65996         song  -3.474914\n",
       "70064         text  -3.444739\n",
       "59617       regret  -3.408236\n",
       "8627        amazon  -3.396875\n",
       "55822    potential  -3.288171\n",
       "18809  comfortable  -3.283136\n",
       "26812  engineering  -3.245075\n",
       "32953        gross  -3.221044\n",
       "3354          2017  -3.181072\n",
       "56424     pressure  -3.162457\n",
       "56728      process  -3.102449\n",
       "38398       invest  -3.073241\n",
       "43128         loan  -3.057832\n",
       "75807          web  -3.008405\n",
       "58753        ratio  -2.968958\n",
       "23493       differ  -2.967956"
      ]
     },
     "execution_count": 24,
     "metadata": {},
     "output_type": "execute_result"
    }
   ],
   "source": [
    "dfx.head(20)"
   ]
  },
  {
   "cell_type": "code",
   "execution_count": 25,
   "metadata": {},
   "outputs": [
    {
     "data": {
      "text/html": [
       "<div>\n",
       "<style scoped>\n",
       "    .dataframe tbody tr th:only-of-type {\n",
       "        vertical-align: middle;\n",
       "    }\n",
       "\n",
       "    .dataframe tbody tr th {\n",
       "        vertical-align: top;\n",
       "    }\n",
       "\n",
       "    .dataframe thead th {\n",
       "        text-align: right;\n",
       "    }\n",
       "</style>\n",
       "<table border=\"1\" class=\"dataframe\">\n",
       "  <thead>\n",
       "    <tr style=\"text-align: right;\">\n",
       "      <th></th>\n",
       "      <th>features</th>\n",
       "      <th>coef</th>\n",
       "    </tr>\n",
       "  </thead>\n",
       "  <tbody>\n",
       "    <tr>\n",
       "      <th>37139</th>\n",
       "      <td>incest</td>\n",
       "      <td>5.854835</td>\n",
       "    </tr>\n",
       "    <tr>\n",
       "      <th>71982</th>\n",
       "      <td>trump</td>\n",
       "      <td>5.866687</td>\n",
       "    </tr>\n",
       "    <tr>\n",
       "      <th>15354</th>\n",
       "      <td>butthole</td>\n",
       "      <td>5.879106</td>\n",
       "    </tr>\n",
       "    <tr>\n",
       "      <th>48357</th>\n",
       "      <td>muslim</td>\n",
       "      <td>6.002297</td>\n",
       "    </tr>\n",
       "    <tr>\n",
       "      <th>64293</th>\n",
       "      <td>shithole</td>\n",
       "      <td>6.011851</td>\n",
       "    </tr>\n",
       "    <tr>\n",
       "      <th>58664</th>\n",
       "      <td>rape</td>\n",
       "      <td>6.068087</td>\n",
       "    </tr>\n",
       "    <tr>\n",
       "      <th>31394</th>\n",
       "      <td>gay</td>\n",
       "      <td>6.084228</td>\n",
       "    </tr>\n",
       "    <tr>\n",
       "      <th>30712</th>\n",
       "      <td>fuck</td>\n",
       "      <td>6.102233</td>\n",
       "    </tr>\n",
       "    <tr>\n",
       "      <th>57663</th>\n",
       "      <td>pussy</td>\n",
       "      <td>6.137296</td>\n",
       "    </tr>\n",
       "    <tr>\n",
       "      <th>16339</th>\n",
       "      <td>castrating</td>\n",
       "      <td>6.137741</td>\n",
       "    </tr>\n",
       "    <tr>\n",
       "      <th>18430</th>\n",
       "      <td>cock</td>\n",
       "      <td>6.194077</td>\n",
       "    </tr>\n",
       "    <tr>\n",
       "      <th>39449</th>\n",
       "      <td>jew</td>\n",
       "      <td>6.206172</td>\n",
       "    </tr>\n",
       "    <tr>\n",
       "      <th>42575</th>\n",
       "      <td>liberal</td>\n",
       "      <td>6.230399</td>\n",
       "    </tr>\n",
       "    <tr>\n",
       "      <th>36404</th>\n",
       "      <td>idiot</td>\n",
       "      <td>6.248515</td>\n",
       "    </tr>\n",
       "    <tr>\n",
       "      <th>39408</th>\n",
       "      <td>jerk</td>\n",
       "      <td>6.327163</td>\n",
       "    </tr>\n",
       "    <tr>\n",
       "      <th>22598</th>\n",
       "      <td>democrat</td>\n",
       "      <td>6.460219</td>\n",
       "    </tr>\n",
       "    <tr>\n",
       "      <th>67782</th>\n",
       "      <td>stupid</td>\n",
       "      <td>6.552862</td>\n",
       "    </tr>\n",
       "    <tr>\n",
       "      <th>16340</th>\n",
       "      <td>castration</td>\n",
       "      <td>8.563611</td>\n",
       "    </tr>\n",
       "    <tr>\n",
       "      <th>16337</th>\n",
       "      <td>castrate</td>\n",
       "      <td>10.213562</td>\n",
       "    </tr>\n",
       "    <tr>\n",
       "      <th>16338</th>\n",
       "      <td>castrated</td>\n",
       "      <td>11.382552</td>\n",
       "    </tr>\n",
       "  </tbody>\n",
       "</table>\n",
       "</div>"
      ],
      "text/plain": [
       "         features       coef\n",
       "37139      incest   5.854835\n",
       "71982       trump   5.866687\n",
       "15354    butthole   5.879106\n",
       "48357      muslim   6.002297\n",
       "64293    shithole   6.011851\n",
       "58664        rape   6.068087\n",
       "31394         gay   6.084228\n",
       "30712        fuck   6.102233\n",
       "57663       pussy   6.137296\n",
       "16339  castrating   6.137741\n",
       "18430        cock   6.194077\n",
       "39449         jew   6.206172\n",
       "42575     liberal   6.230399\n",
       "36404       idiot   6.248515\n",
       "39408        jerk   6.327163\n",
       "22598    democrat   6.460219\n",
       "67782      stupid   6.552862\n",
       "16340  castration   8.563611\n",
       "16337    castrate  10.213562\n",
       "16338   castrated  11.382552"
      ]
     },
     "execution_count": 25,
     "metadata": {},
     "output_type": "execute_result"
    }
   ],
   "source": [
    "dfx.tail(20)"
   ]
  }
 ],
 "metadata": {
  "kernelspec": {
   "display_name": "Python 3",
   "language": "python",
   "name": "python3"
  },
  "language_info": {
   "codemirror_mode": {
    "name": "ipython",
    "version": 3
   },
   "file_extension": ".py",
   "mimetype": "text/x-python",
   "name": "python",
   "nbconvert_exporter": "python",
   "pygments_lexer": "ipython3",
   "version": "3.7.4"
  }
 },
 "nbformat": 4,
 "nbformat_minor": 2
}
