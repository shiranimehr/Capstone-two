{
 "cells": [
  {
   "cell_type": "markdown",
   "metadata": {},
   "source": [
    "First, let's import required packages. "
   ]
  },
  {
   "cell_type": "code",
   "execution_count": 51,
   "metadata": {},
   "outputs": [],
   "source": [
    "import pandas as pd\n",
    "import matplotlib.pyplot as plt\n",
    "from wordcloud import WordCloud, STOPWORDS\n",
    "import re\n",
    "import string\n",
    "from sklearn.feature_extraction.text import TfidfVectorizer\n",
    "import nltk\n",
    "from nltk.stem.porter import PorterStemmer\n",
    "from sklearn.pipeline import Pipeline\n",
    "from sklearn.feature_extraction.text import CountVectorizer\n",
    "from sklearn.feature_extraction.text import TfidfTransformer"
   ]
  },
  {
   "cell_type": "markdown",
   "metadata": {},
   "source": [
    "Then, we read data and check first couple of rows as well as its size."
   ]
  },
  {
   "cell_type": "code",
   "execution_count": 39,
   "metadata": {},
   "outputs": [],
   "source": [
    "trainData = pd.read_csv('../data/raw/train.csv')"
   ]
  },
  {
   "cell_type": "markdown",
   "metadata": {},
   "source": [
    "As the dataset is relatively large with 1306122 rows and we will have some difficulty if the whole dataset is considered. Therefore, we do random stratified sampling and keep only 10% of data."
   ]
  },
  {
   "cell_type": "code",
   "execution_count": 40,
   "metadata": {},
   "outputs": [],
   "source": [
    "trainData = trainData.groupby('target', group_keys=False).apply(lambda x: x.sample(frac=0.10))"
   ]
  },
  {
   "cell_type": "code",
   "execution_count": 41,
   "metadata": {},
   "outputs": [
    {
     "data": {
      "text/html": [
       "<div>\n",
       "<style scoped>\n",
       "    .dataframe tbody tr th:only-of-type {\n",
       "        vertical-align: middle;\n",
       "    }\n",
       "\n",
       "    .dataframe tbody tr th {\n",
       "        vertical-align: top;\n",
       "    }\n",
       "\n",
       "    .dataframe thead th {\n",
       "        text-align: right;\n",
       "    }\n",
       "</style>\n",
       "<table border=\"1\" class=\"dataframe\">\n",
       "  <thead>\n",
       "    <tr style=\"text-align: right;\">\n",
       "      <th></th>\n",
       "      <th>qid</th>\n",
       "      <th>question_text</th>\n",
       "      <th>target</th>\n",
       "    </tr>\n",
       "  </thead>\n",
       "  <tbody>\n",
       "    <tr>\n",
       "      <th>32534</th>\n",
       "      <td>065e89e416fa7417ce52</td>\n",
       "      <td>Where can I find research papers on linear reg...</td>\n",
       "      <td>0</td>\n",
       "    </tr>\n",
       "    <tr>\n",
       "      <th>651377</th>\n",
       "      <td>7f964b3baac64cb51f0d</td>\n",
       "      <td>What would it have to take to start a war betw...</td>\n",
       "      <td>0</td>\n",
       "    </tr>\n",
       "    <tr>\n",
       "      <th>1263507</th>\n",
       "      <td>f79c250be3a9332c638e</td>\n",
       "      <td>What is the least common Myers-Briggs personal...</td>\n",
       "      <td>0</td>\n",
       "    </tr>\n",
       "    <tr>\n",
       "      <th>945005</th>\n",
       "      <td>b92d68c708b930e732ed</td>\n",
       "      <td>What property does helium have that made it to...</td>\n",
       "      <td>0</td>\n",
       "    </tr>\n",
       "    <tr>\n",
       "      <th>1017393</th>\n",
       "      <td>c75d1d9b64ebbaa5bad2</td>\n",
       "      <td>What is your percentage in CBSE class 10 2018?</td>\n",
       "      <td>0</td>\n",
       "    </tr>\n",
       "  </tbody>\n",
       "</table>\n",
       "</div>"
      ],
      "text/plain": [
       "                          qid  \\\n",
       "32534    065e89e416fa7417ce52   \n",
       "651377   7f964b3baac64cb51f0d   \n",
       "1263507  f79c250be3a9332c638e   \n",
       "945005   b92d68c708b930e732ed   \n",
       "1017393  c75d1d9b64ebbaa5bad2   \n",
       "\n",
       "                                             question_text  target  \n",
       "32534    Where can I find research papers on linear reg...       0  \n",
       "651377   What would it have to take to start a war betw...       0  \n",
       "1263507  What is the least common Myers-Briggs personal...       0  \n",
       "945005   What property does helium have that made it to...       0  \n",
       "1017393     What is your percentage in CBSE class 10 2018?       0  "
      ]
     },
     "execution_count": 41,
     "metadata": {},
     "output_type": "execute_result"
    }
   ],
   "source": [
    "trainData.head()"
   ]
  },
  {
   "cell_type": "markdown",
   "metadata": {},
   "source": [
    "From figure above, insincere questions seem to have more words and characters when compared to sincere questions. Next we work on preprocessing questions text by removing extra characters and stopwords and changing all letters to lower case. "
   ]
  },
  {
   "cell_type": "code",
   "execution_count": 42,
   "metadata": {},
   "outputs": [],
   "source": [
    "def removeExtraChars(qtext):\n",
    "    result = [re.sub(r'[^A-Za-z ]+', ' ', sentence) for sentence in qtext]\n",
    "    return result"
   ]
  },
  {
   "cell_type": "code",
   "execution_count": 43,
   "metadata": {},
   "outputs": [],
   "source": [
    "def removeStopWords(qtext):\n",
    "    # Remove stop words\n",
    "    result = []\n",
    "    for sentence in qtext:\n",
    "        words = sentence.split()\n",
    "        result.append(' '.join([w for w in words if w not in STOPWORDS]))\n",
    "    return result"
   ]
  },
  {
   "cell_type": "code",
   "execution_count": 44,
   "metadata": {},
   "outputs": [],
   "source": [
    "def preprocessText(df):\n",
    "    \n",
    "    # Remove extra characters\n",
    "    df['question_text'] = removeExtraChars(df['question_text'])\n",
    "    \n",
    "    # Lower case\n",
    "    df['question_text'] = [sentence.lower() for sentence in df['question_text']]\n",
    "    \n",
    "    # Remove stop words\n",
    "    df['question_text'] = removeStopWords(df['question_text'])\n",
    "    \n",
    "    return df"
   ]
  },
  {
   "cell_type": "code",
   "execution_count": 45,
   "metadata": {},
   "outputs": [],
   "source": [
    "class preprocessTextTransformer():\n",
    "    \n",
    "    def __init__(self, func):\n",
    "        self.func = func\n",
    "\n",
    "    def transform(self, input_df, **transform_params):\n",
    "        return self.func(input_df)\n",
    "\n",
    "    def fit(self, X, y=None, **fit_params):\n",
    "        return self"
   ]
  },
  {
   "cell_type": "code",
   "execution_count": 46,
   "metadata": {},
   "outputs": [],
   "source": [
    "pipeline = Pipeline([\n",
    "    (\"preprocess\", preprocessTextTransformer(preprocessText))\n",
    "])"
   ]
  },
  {
   "cell_type": "code",
   "execution_count": 47,
   "metadata": {},
   "outputs": [],
   "source": [
    "_ = pipeline.fit_transform(trainData)"
   ]
  },
  {
   "cell_type": "code",
   "execution_count": 48,
   "metadata": {},
   "outputs": [
    {
     "data": {
      "text/html": [
       "<div>\n",
       "<style scoped>\n",
       "    .dataframe tbody tr th:only-of-type {\n",
       "        vertical-align: middle;\n",
       "    }\n",
       "\n",
       "    .dataframe tbody tr th {\n",
       "        vertical-align: top;\n",
       "    }\n",
       "\n",
       "    .dataframe thead th {\n",
       "        text-align: right;\n",
       "    }\n",
       "</style>\n",
       "<table border=\"1\" class=\"dataframe\">\n",
       "  <thead>\n",
       "    <tr style=\"text-align: right;\">\n",
       "      <th></th>\n",
       "      <th>qid</th>\n",
       "      <th>question_text</th>\n",
       "      <th>target</th>\n",
       "    </tr>\n",
       "  </thead>\n",
       "  <tbody>\n",
       "    <tr>\n",
       "      <th>32534</th>\n",
       "      <td>065e89e416fa7417ce52</td>\n",
       "      <td>find research papers linear regression</td>\n",
       "      <td>0</td>\n",
       "    </tr>\n",
       "    <tr>\n",
       "      <th>651377</th>\n",
       "      <td>7f964b3baac64cb51f0d</td>\n",
       "      <td>take start war us china</td>\n",
       "      <td>0</td>\n",
       "    </tr>\n",
       "    <tr>\n",
       "      <th>1263507</th>\n",
       "      <td>f79c250be3a9332c638e</td>\n",
       "      <td>least common myers briggs personality type</td>\n",
       "      <td>0</td>\n",
       "    </tr>\n",
       "    <tr>\n",
       "      <th>945005</th>\n",
       "      <td>b92d68c708b930e732ed</td>\n",
       "      <td>property helium made used filling balloons</td>\n",
       "      <td>0</td>\n",
       "    </tr>\n",
       "    <tr>\n",
       "      <th>1017393</th>\n",
       "      <td>c75d1d9b64ebbaa5bad2</td>\n",
       "      <td>percentage cbse class</td>\n",
       "      <td>0</td>\n",
       "    </tr>\n",
       "  </tbody>\n",
       "</table>\n",
       "</div>"
      ],
      "text/plain": [
       "                          qid                               question_text  \\\n",
       "32534    065e89e416fa7417ce52      find research papers linear regression   \n",
       "651377   7f964b3baac64cb51f0d                     take start war us china   \n",
       "1263507  f79c250be3a9332c638e  least common myers briggs personality type   \n",
       "945005   b92d68c708b930e732ed  property helium made used filling balloons   \n",
       "1017393  c75d1d9b64ebbaa5bad2                       percentage cbse class   \n",
       "\n",
       "         target  \n",
       "32534         0  \n",
       "651377        0  \n",
       "1263507       0  \n",
       "945005        0  \n",
       "1017393       0  "
      ]
     },
     "execution_count": 48,
     "metadata": {},
     "output_type": "execute_result"
    }
   ],
   "source": [
    "trainData.head()"
   ]
  },
  {
   "cell_type": "markdown",
   "metadata": {},
   "source": [
    "After preprocessing question text, we tokenize and stem sentences and calculate document-term matrix (DTM)."
   ]
  },
  {
   "cell_type": "code",
   "execution_count": 49,
   "metadata": {},
   "outputs": [],
   "source": [
    "#def tokenize(sentence):\n",
    "#    tokens = [word for word in nltk.word_tokenize(sentence) if len(word)>1]\n",
    "#    stemmer = PorterStemmer()\n",
    "#    stems = [stemmer.stem(item) for item in tokens]\n",
    "#    return stems\n",
    "\n",
    "#def createDTM(qtext):\n",
    "#    vectorizer = TfidfVectorizer(tokenizer = tokenize)\n",
    "#    dtm = vectorizer.fit_transform(qtext)\n",
    "#    result = pd.DataFrame(dtm.toarray(), columns=vectorizer.get_feature_names())\n",
    "#    return result"
   ]
  },
  {
   "cell_type": "code",
   "execution_count": 52,
   "metadata": {},
   "outputs": [],
   "source": [
    "pipeline = Pipeline([\n",
    "    ('vect', CountVectorizer()),\n",
    "    ('tfidf', TfidfTransformer())\n",
    "])"
   ]
  },
  {
   "cell_type": "code",
   "execution_count": 54,
   "metadata": {},
   "outputs": [],
   "source": [
    "features = pipeline.fit_transform(trainData)"
   ]
  },
  {
   "cell_type": "code",
   "execution_count": 55,
   "metadata": {},
   "outputs": [
    {
     "data": {
      "text/plain": [
       "(3, 3)"
      ]
     },
     "execution_count": 55,
     "metadata": {},
     "output_type": "execute_result"
    }
   ],
   "source": [
    "features.shape"
   ]
  },
  {
   "cell_type": "code",
   "execution_count": 57,
   "metadata": {},
   "outputs": [
    {
     "data": {
      "text/plain": [
       "<1x3 sparse matrix of type '<class 'numpy.float64'>'\n",
       "\twith 1 stored elements in Compressed Sparse Row format>"
      ]
     },
     "execution_count": 57,
     "metadata": {},
     "output_type": "execute_result"
    }
   ],
   "source": [
    "features[0][0]"
   ]
  }
 ],
 "metadata": {
  "kernelspec": {
   "display_name": "Python 3",
   "language": "python",
   "name": "python3"
  },
  "language_info": {
   "codemirror_mode": {
    "name": "ipython",
    "version": 3
   },
   "file_extension": ".py",
   "mimetype": "text/x-python",
   "name": "python",
   "nbconvert_exporter": "python",
   "pygments_lexer": "ipython3",
   "version": "3.7.4"
  }
 },
 "nbformat": 4,
 "nbformat_minor": 2
}
