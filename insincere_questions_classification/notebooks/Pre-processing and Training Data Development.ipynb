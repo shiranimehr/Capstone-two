{
 "cells": [
  {
   "cell_type": "markdown",
   "metadata": {},
   "source": [
    "First, let's import required packages. "
   ]
  },
  {
   "cell_type": "code",
   "execution_count": 1,
   "metadata": {},
   "outputs": [],
   "source": [
    "import pandas as pd\n",
    "import matplotlib.pyplot as plt\n",
    "from wordcloud import WordCloud, STOPWORDS\n",
    "import re\n",
    "import string\n",
    "from sklearn.feature_extraction.text import TfidfVectorizer\n",
    "import nltk\n",
    "from nltk.stem.porter import PorterStemmer\n",
    "from sklearn.pipeline import Pipeline\n",
    "from sklearn.feature_extraction.text import CountVectorizer\n",
    "from sklearn.feature_extraction.text import TfidfTransformer"
   ]
  },
  {
   "cell_type": "markdown",
   "metadata": {},
   "source": [
    "Then, we read data and check first couple of rows as well as its size."
   ]
  },
  {
   "cell_type": "code",
   "execution_count": 2,
   "metadata": {},
   "outputs": [],
   "source": [
    "trainData = pd.read_csv('../data/raw/train.csv')"
   ]
  },
  {
   "cell_type": "markdown",
   "metadata": {},
   "source": [
    "As the dataset is relatively large with 1306122 rows and we will have some difficulty if the whole dataset is considered. Therefore, we do random stratified sampling and keep only 10% of data."
   ]
  },
  {
   "cell_type": "code",
   "execution_count": 3,
   "metadata": {},
   "outputs": [],
   "source": [
    "trainData = trainData.groupby('target', group_keys=False).apply(lambda x: x.sample(frac=0.10))"
   ]
  },
  {
   "cell_type": "code",
   "execution_count": 4,
   "metadata": {},
   "outputs": [
    {
     "data": {
      "text/html": [
       "<div>\n",
       "<style scoped>\n",
       "    .dataframe tbody tr th:only-of-type {\n",
       "        vertical-align: middle;\n",
       "    }\n",
       "\n",
       "    .dataframe tbody tr th {\n",
       "        vertical-align: top;\n",
       "    }\n",
       "\n",
       "    .dataframe thead th {\n",
       "        text-align: right;\n",
       "    }\n",
       "</style>\n",
       "<table border=\"1\" class=\"dataframe\">\n",
       "  <thead>\n",
       "    <tr style=\"text-align: right;\">\n",
       "      <th></th>\n",
       "      <th>qid</th>\n",
       "      <th>question_text</th>\n",
       "      <th>target</th>\n",
       "    </tr>\n",
       "  </thead>\n",
       "  <tbody>\n",
       "    <tr>\n",
       "      <th>164760</th>\n",
       "      <td>2034f545f912e1307d1c</td>\n",
       "      <td>What are some useful tips for students startin...</td>\n",
       "      <td>0</td>\n",
       "    </tr>\n",
       "    <tr>\n",
       "      <th>393424</th>\n",
       "      <td>4d116d58705ed618de29</td>\n",
       "      <td>Would it be illegal for Trump to pardon Manafo...</td>\n",
       "      <td>0</td>\n",
       "    </tr>\n",
       "    <tr>\n",
       "      <th>38615</th>\n",
       "      <td>078ced652576347901f6</td>\n",
       "      <td>What is the best remedy to get rid of celiac d...</td>\n",
       "      <td>0</td>\n",
       "    </tr>\n",
       "    <tr>\n",
       "      <th>71401</th>\n",
       "      <td>0dff889c225f875bcba0</td>\n",
       "      <td>Is it better to use rd Sharma in class 11?</td>\n",
       "      <td>0</td>\n",
       "    </tr>\n",
       "    <tr>\n",
       "      <th>224206</th>\n",
       "      <td>2bd86f5edfa5f801f90c</td>\n",
       "      <td>I want to do research in astronomy. Which qual...</td>\n",
       "      <td>0</td>\n",
       "    </tr>\n",
       "  </tbody>\n",
       "</table>\n",
       "</div>"
      ],
      "text/plain": [
       "                         qid  \\\n",
       "164760  2034f545f912e1307d1c   \n",
       "393424  4d116d58705ed618de29   \n",
       "38615   078ced652576347901f6   \n",
       "71401   0dff889c225f875bcba0   \n",
       "224206  2bd86f5edfa5f801f90c   \n",
       "\n",
       "                                            question_text  target  \n",
       "164760  What are some useful tips for students startin...       0  \n",
       "393424  Would it be illegal for Trump to pardon Manafo...       0  \n",
       "38615   What is the best remedy to get rid of celiac d...       0  \n",
       "71401          Is it better to use rd Sharma in class 11?       0  \n",
       "224206  I want to do research in astronomy. Which qual...       0  "
      ]
     },
     "execution_count": 4,
     "metadata": {},
     "output_type": "execute_result"
    }
   ],
   "source": [
    "trainData.head()"
   ]
  },
  {
   "cell_type": "markdown",
   "metadata": {},
   "source": [
    "From figure above, insincere questions seem to have more words and characters when compared to sincere questions. Next we work on preprocessing questions text by removing extra characters and stopwords and changing all letters to lower case. "
   ]
  },
  {
   "cell_type": "code",
   "execution_count": 5,
   "metadata": {},
   "outputs": [],
   "source": [
    "def removeExtraChars(qtext):\n",
    "    result = [re.sub(r'[^A-Za-z ]+', ' ', sentence) for sentence in qtext]\n",
    "    return result"
   ]
  },
  {
   "cell_type": "code",
   "execution_count": 6,
   "metadata": {},
   "outputs": [],
   "source": [
    "def removeStopWords(qtext):\n",
    "    # Remove stop words\n",
    "    result = []\n",
    "    for sentence in qtext:\n",
    "        words = sentence.split()\n",
    "        result.append(' '.join([w for w in words if w not in STOPWORDS]))\n",
    "    return result"
   ]
  },
  {
   "cell_type": "code",
   "execution_count": 7,
   "metadata": {},
   "outputs": [],
   "source": [
    "def preprocessText(df):\n",
    "    \n",
    "    # Remove extra characters\n",
    "    df['question_text'] = removeExtraChars(df['question_text'])\n",
    "    \n",
    "    # Lower case\n",
    "    df['question_text'] = [sentence.lower() for sentence in df['question_text']]\n",
    "    \n",
    "    # Remove stop words\n",
    "    df['question_text'] = removeStopWords(df['question_text'])\n",
    "    \n",
    "    return df"
   ]
  },
  {
   "cell_type": "code",
   "execution_count": 8,
   "metadata": {},
   "outputs": [],
   "source": [
    "class preprocessTextTransformer():\n",
    "    \n",
    "    def __init__(self, func):\n",
    "        self.func = func\n",
    "\n",
    "    def transform(self, input_df, **transform_params):\n",
    "        return self.func(input_df)\n",
    "\n",
    "    def fit(self, X, y=None, **fit_params):\n",
    "        return self"
   ]
  },
  {
   "cell_type": "code",
   "execution_count": 9,
   "metadata": {},
   "outputs": [],
   "source": [
    "pipeline = Pipeline([\n",
    "    (\"preprocess\", preprocessTextTransformer(preprocessText))\n",
    "])"
   ]
  },
  {
   "cell_type": "code",
   "execution_count": 10,
   "metadata": {},
   "outputs": [],
   "source": [
    "_ = pipeline.fit_transform(trainData)"
   ]
  },
  {
   "cell_type": "code",
   "execution_count": 11,
   "metadata": {},
   "outputs": [
    {
     "data": {
      "text/html": [
       "<div>\n",
       "<style scoped>\n",
       "    .dataframe tbody tr th:only-of-type {\n",
       "        vertical-align: middle;\n",
       "    }\n",
       "\n",
       "    .dataframe tbody tr th {\n",
       "        vertical-align: top;\n",
       "    }\n",
       "\n",
       "    .dataframe thead th {\n",
       "        text-align: right;\n",
       "    }\n",
       "</style>\n",
       "<table border=\"1\" class=\"dataframe\">\n",
       "  <thead>\n",
       "    <tr style=\"text-align: right;\">\n",
       "      <th></th>\n",
       "      <th>qid</th>\n",
       "      <th>question_text</th>\n",
       "      <th>target</th>\n",
       "    </tr>\n",
       "  </thead>\n",
       "  <tbody>\n",
       "    <tr>\n",
       "      <th>164760</th>\n",
       "      <td>2034f545f912e1307d1c</td>\n",
       "      <td>useful tips students starting first semester m...</td>\n",
       "      <td>0</td>\n",
       "    </tr>\n",
       "    <tr>\n",
       "      <th>393424</th>\n",
       "      <td>4d116d58705ed618de29</td>\n",
       "      <td>illegal trump pardon manafort order shut</td>\n",
       "      <td>0</td>\n",
       "    </tr>\n",
       "    <tr>\n",
       "      <th>38615</th>\n",
       "      <td>078ced652576347901f6</td>\n",
       "      <td>best remedy rid celiac disease</td>\n",
       "      <td>0</td>\n",
       "    </tr>\n",
       "    <tr>\n",
       "      <th>71401</th>\n",
       "      <td>0dff889c225f875bcba0</td>\n",
       "      <td>better use rd sharma class</td>\n",
       "      <td>0</td>\n",
       "    </tr>\n",
       "    <tr>\n",
       "      <th>224206</th>\n",
       "      <td>2bd86f5edfa5f801f90c</td>\n",
       "      <td>want research astronomy qualifications must</td>\n",
       "      <td>0</td>\n",
       "    </tr>\n",
       "  </tbody>\n",
       "</table>\n",
       "</div>"
      ],
      "text/plain": [
       "                         qid  \\\n",
       "164760  2034f545f912e1307d1c   \n",
       "393424  4d116d58705ed618de29   \n",
       "38615   078ced652576347901f6   \n",
       "71401   0dff889c225f875bcba0   \n",
       "224206  2bd86f5edfa5f801f90c   \n",
       "\n",
       "                                            question_text  target  \n",
       "164760  useful tips students starting first semester m...       0  \n",
       "393424           illegal trump pardon manafort order shut       0  \n",
       "38615                      best remedy rid celiac disease       0  \n",
       "71401                          better use rd sharma class       0  \n",
       "224206        want research astronomy qualifications must       0  "
      ]
     },
     "execution_count": 11,
     "metadata": {},
     "output_type": "execute_result"
    }
   ],
   "source": [
    "trainData.head()"
   ]
  },
  {
   "cell_type": "markdown",
   "metadata": {},
   "source": [
    "After preprocessing question text, we tokenize and stem sentences and calculate document-term matrix (DTM)."
   ]
  },
  {
   "cell_type": "code",
   "execution_count": 12,
   "metadata": {},
   "outputs": [],
   "source": [
    "#def tokenize(sentence):\n",
    "#    tokens = [word for word in nltk.word_tokenize(sentence) if len(word)>1]\n",
    "#    stemmer = PorterStemmer()\n",
    "#    stems = [stemmer.stem(item) for item in tokens]\n",
    "#    return stems\n",
    "\n",
    "#def createDTM(qtext):\n",
    "#    vectorizer = TfidfVectorizer(tokenizer = tokenize)\n",
    "#    dtm = vectorizer.fit_transform(qtext)\n",
    "#    result = pd.DataFrame(dtm.toarray(), columns=vectorizer.get_feature_names())\n",
    "#    return result"
   ]
  },
  {
   "cell_type": "code",
   "execution_count": 13,
   "metadata": {},
   "outputs": [],
   "source": [
    "pipeline = Pipeline([\n",
    "    ('vect', CountVectorizer()),\n",
    "    ('tfidf', TfidfTransformer())\n",
    "])"
   ]
  },
  {
   "cell_type": "code",
   "execution_count": 14,
   "metadata": {},
   "outputs": [],
   "source": [
    "features = pipeline.fit_transform(trainData)"
   ]
  },
  {
   "cell_type": "code",
   "execution_count": 15,
   "metadata": {},
   "outputs": [
    {
     "data": {
      "text/plain": [
       "(3, 3)"
      ]
     },
     "execution_count": 15,
     "metadata": {},
     "output_type": "execute_result"
    }
   ],
   "source": [
    "features.shape"
   ]
  },
  {
   "cell_type": "code",
   "execution_count": 16,
   "metadata": {
    "scrolled": true
   },
   "outputs": [
    {
     "data": {
      "text/plain": [
       "<3x3 sparse matrix of type '<class 'numpy.float64'>'\n",
       "\twith 3 stored elements in Compressed Sparse Row format>"
      ]
     },
     "execution_count": 16,
     "metadata": {},
     "output_type": "execute_result"
    }
   ],
   "source": [
    "features"
   ]
  }
 ],
 "metadata": {
  "kernelspec": {
   "display_name": "Python 3",
   "language": "python",
   "name": "python3"
  },
  "language_info": {
   "codemirror_mode": {
    "name": "ipython",
    "version": 3
   },
   "file_extension": ".py",
   "mimetype": "text/x-python",
   "name": "python",
   "nbconvert_exporter": "python",
   "pygments_lexer": "ipython3",
   "version": "3.7.4"
  }
 },
 "nbformat": 4,
 "nbformat_minor": 2
}
